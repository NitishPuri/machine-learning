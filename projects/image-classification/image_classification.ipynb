{
 "cells": [
  {
   "cell_type": "markdown",
   "metadata": {
    "collapsed": true
   },
   "source": [
    "# Image Classification\n",
    "In this project, you'll classify images from the [CIFAR-10 dataset](https://www.cs.toronto.edu/~kriz/cifar.html).  The dataset consists of airplanes, dogs, cats, and other objects. You'll preprocess the images, then train a convolutional neural network on all the samples. The images need to be normalized and the labels need to be one-hot encoded.  You'll get to apply what you learned and build a convolutional, max pooling, dropout, and fully connected layers.  At the end, you'll get to see your neural network's predictions on the sample images.\n",
    "## Get the Data\n",
    "Run the following cell to download the [CIFAR-10 dataset for python](https://www.cs.toronto.edu/~kriz/cifar-10-python.tar.gz)."
   ]
  },
  {
   "cell_type": "code",
   "execution_count": 2,
   "metadata": {},
   "outputs": [
    {
     "name": "stdout",
     "output_type": "stream",
     "text": [
      "All files found!\n"
     ]
    }
   ],
   "source": [
    "\"\"\"\n",
    "DON'T MODIFY ANYTHING IN THIS CELL THAT IS BELOW THIS LINE\n",
    "\"\"\"\n",
    "from urllib.request import urlretrieve\n",
    "from os.path import isfile, isdir\n",
    "from tqdm import tqdm\n",
    "import problem_unittests as tests\n",
    "import tarfile\n",
    "\n",
    "cifar10_dataset_folder_path = 'cifar-10-batches-py'\n",
    "\n",
    "class DLProgress(tqdm):\n",
    "    last_block = 0\n",
    "\n",
    "    def hook(self, block_num=1, block_size=1, total_size=None):\n",
    "        self.total = total_size\n",
    "        self.update((block_num - self.last_block) * block_size)\n",
    "        self.last_block = block_num\n",
    "\n",
    "if not isfile('cifar-10-python.tar.gz'):\n",
    "    with DLProgress(unit='B', unit_scale=True, miniters=1, desc='CIFAR-10 Dataset') as pbar:\n",
    "        urlretrieve(\n",
    "            'https://www.cs.toronto.edu/~kriz/cifar-10-python.tar.gz',\n",
    "            'cifar-10-python.tar.gz',\n",
    "            pbar.hook)\n",
    "\n",
    "if not isdir(cifar10_dataset_folder_path):\n",
    "    with tarfile.open('cifar-10-python.tar.gz') as tar:\n",
    "        tar.extractall()\n",
    "        tar.close()\n",
    "\n",
    "\n",
    "tests.test_folder_path(cifar10_dataset_folder_path)"
   ]
  },
  {
   "cell_type": "markdown",
   "metadata": {},
   "source": [
    "## Explore the Data\n",
    "The dataset is broken into batches to prevent your machine from running out of memory.  The CIFAR-10 dataset consists of 5 batches, named `data_batch_1`, `data_batch_2`, etc.. Each batch contains the labels and images that are one of the following:\n",
    "* airplane\n",
    "* automobile\n",
    "* bird\n",
    "* cat\n",
    "* deer\n",
    "* dog\n",
    "* frog\n",
    "* horse\n",
    "* ship\n",
    "* truck\n",
    "\n",
    "Understanding a dataset is part of making predictions on the data.  Play around with the code cell below by changing the `batch_id` and `sample_id`. The `batch_id` is the id for a batch (1-5). The `sample_id` is the id for a image and label pair in the batch.\n",
    "\n",
    "Ask yourself \"What are all possible labels?\", \"What is the range of values for the image data?\", \"Are the labels in order or random?\".  Answers to questions like these will help you preprocess the data and end up with better predictions."
   ]
  },
  {
   "cell_type": "code",
   "execution_count": 21,
   "metadata": {},
   "outputs": [
    {
     "name": "stdout",
     "output_type": "stream",
     "text": [
      "\n",
      "Stats of batch 3:\n",
      "Samples: 10000\n",
      "Label Counts: {0: 994, 1: 1042, 2: 965, 3: 997, 4: 990, 5: 1029, 6: 978, 7: 1015, 8: 961, 9: 1029}\n",
      "First 20 Labels: [8, 5, 0, 6, 9, 2, 8, 3, 6, 2, 7, 4, 6, 9, 0, 0, 7, 3, 7, 2]\n",
      "\n",
      "Example of Image 500:\n",
      "Image - Min Value: 6 Max Value: 239\n",
      "Image - Shape: (32, 32, 3)\n",
      "Label - Label Id: 8 Name: ship\n"
     ]
    },
    {
     "data": {
      "image/png": "[encoded data removed]",
      "text/plain": [
       "<matplotlib.figure.Figure at 0x18c58cc6550>"
      ]
     },
     "metadata": {
      "image/png": {
       "height": 250,
       "width": 253
      }
     },
     "output_type": "display_data"
    }
   ],
   "source": [
    "%matplotlib inline\n",
    "%config InlineBackend.figure_format = 'retina'\n",
    "\n",
    "import helper\n",
    "import numpy as np\n",
    "\n",
    "# Explore the dataset\n",
    "batch_id = 3\n",
    "sample_id = 500\n",
    "helper.display_stats(cifar10_dataset_folder_path, batch_id, sample_id)"
   ]
  },
  {
   "cell_type": "markdown",
   "metadata": {},
   "source": [
    "## Implement Preprocess Functions\n",
    "### Normalize\n",
    "In the cell below, implement the `normalize` function to take in image data, `x`, and return it as a normalized Numpy array. The values should be in the range of 0 to 1, inclusive.  The return object should be the same shape as `x`."
   ]
  },
  {
   "cell_type": "code",
   "execution_count": 29,
   "metadata": {},
   "outputs": [
    {
     "name": "stdout",
     "output_type": "stream",
     "text": [
      "[0, 1, 2, 3, 4, 5, 6, 7, 8, 9]\n"
     ]
    }
   ],
   "source": [
    "# t = np.random.rand(3, 3, 3)*255\n",
    "# print (t)\n",
    "# ys = t/255\n",
    "# print (ys)\n",
    "a = [i for i in range(0,10)]\n",
    "print(a)"
   ]
  },
  {
   "cell_type": "code",
   "execution_count": 19,
   "metadata": {},
   "outputs": [
    {
     "name": "stdout",
     "output_type": "stream",
     "text": [
      "Tests Passed\n"
     ]
    }
   ],
   "source": [
    "def normalize(x):\n",
    "    \"\"\"\n",
    "    Normalize a list of sample image data in the range of 0 to 1\n",
    "    : x: List of image data.  The image shape is (32, 32, 3)\n",
    "    : return: Numpy array of normalize data, \n",
    "    : Nitish : Output shape is the same as input shape(32, 32, 3)\n",
    "    \"\"\"\n",
    "    return x/255    \n",
    "\n",
    "\"\"\"\n",
    "DON'T MODIFY ANYTHING IN THIS CELL THAT IS BELOW THIS LINE\n",
    "\"\"\"\n",
    "tests.test_normalize(normalize)"
   ]
  },
  {
   "cell_type": "markdown",
   "metadata": {},
   "source": [
    "### One-hot encode\n",
    "Just like the previous code cell, you'll be implementing a function for preprocessing.  This time, you'll implement the `one_hot_encode` function. The input, `x`, are a list of labels.  Implement the function to return the list of labels as One-Hot encoded Numpy array.  The possible values for labels are 0 to 9. The one-hot encoding function should return the same encoding for each value between each call to `one_hot_encode`.  Make sure to save the map of encodings outside the function.\n",
    "\n",
    "**Hint:**\n",
    "\n",
    "Look into LabelBinarizer in the preprocessing module of sklearn."
   ]
  },
  {
   "cell_type": "code",
   "execution_count": 31,
   "metadata": {},
   "outputs": [
    {
     "name": "stdout",
     "output_type": "stream",
     "text": [
      "Tests Passed\n"
     ]
    }
   ],
   "source": [
    "from sklearn.preprocessing import LabelBinarizer\n",
    "\n",
    "labels = [i for i in range(0,10)]\n",
    "lb = LabelBinarizer()\n",
    "lb.fit(labels)\n",
    "# print(lb.classes_)\n",
    "\n",
    "def one_hot_encode(x):\n",
    "    \"\"\"\n",
    "    One hot encode a list of sample labels. Return a one-hot encoded vector for each label.\n",
    "    : x: List of sample Labels\n",
    "    : return: Numpy array of one-hot encoded labels\n",
    "    \"\"\"\n",
    "    return lb.transform(x)\n",
    "\n",
    "\n",
    "\"\"\"\n",
    "DON'T MODIFY ANYTHING IN THIS CELL THAT IS BELOW THIS LINE\n",
    "\"\"\"\n",
    "tests.test_one_hot_encode(one_hot_encode)"
   ]
  },
  {
   "cell_type": "markdown",
   "metadata": {},
   "source": [
    "### Randomize Data\n",
    "As you saw from exploring the data above, the order of the samples are randomized.  It doesn't hurt to randomize it again, but you don't need to for this dataset."
   ]
  },
  {
   "cell_type": "markdown",
   "metadata": {},
   "source": [
    "## Preprocess all the data and save it\n",
    "Running the code cell below will preprocess all the CIFAR-10 data and save it to file. The code below also uses 10% of the training data for validation."
   ]
  },
  {
   "cell_type": "code",
   "execution_count": 32,
   "metadata": {
    "collapsed": true
   },
   "outputs": [],
   "source": [
    "\"\"\"\n",
    "DON'T MODIFY ANYTHING IN THIS CELL\n",
    "\"\"\"\n",
    "# Preprocess Training, Validation, and Testing Data\n",
    "helper.preprocess_and_save_data(cifar10_dataset_folder_path, normalize, one_hot_encode)"
   ]
  },
  {
   "cell_type": "markdown",
   "metadata": {},
   "source": [
    "# Check Point\n",
    "This is your first checkpoint.  If you ever decide to come back to this notebook or have to restart the notebook, you can start from here.  The preprocessed data has been saved to disk."
   ]
  },
  {
   "cell_type": "code",
   "execution_count": 20,
   "metadata": {
    "collapsed": true
   },
   "outputs": [],
   "source": [
    "\"\"\"\n",
    "DON'T MODIFY ANYTHING IN THIS CELL\n",
    "\"\"\"\n",
    "import pickle\n",
    "import problem_unittests as tests\n",
    "import helper\n",
    "\n",
    "# Load the Preprocessed Validation data\n",
    "valid_features, valid_labels = pickle.load(open('preprocess_validation.p', mode='rb'))"
   ]
  },
  {
   "cell_type": "markdown",
   "metadata": {},
   "source": [
    "## Build the network\n",
    "For the neural network, you'll build each layer into a function.  Most of the code you've seen has been outside of functions. To test your code more thoroughly, we require that you put each layer in a function.  This allows us to give you better feedback and test for simple mistakes using our unittests before you submit your project.\n",
    "\n",
    ">**Note:** If you're finding it hard to dedicate enough time for this course each week, we've provided a small shortcut to this part of the project. In the next couple of problems, you'll have the option to use classes from the [TensorFlow Layers](https://www.tensorflow.org/api_docs/python/tf/layers) or [TensorFlow Layers (contrib)](https://www.tensorflow.org/api_guides/python/contrib.layers) packages to build each layer, except the layers you build in the \"Convolutional and Max Pooling Layer\" section.  TF Layers is similar to Keras's and TFLearn's abstraction to layers, so it's easy to pickup.\n",
    "\n",
    ">However, if you would like to get the most out of this course, try to solve all the problems _without_ using anything from the TF Layers packages. You **can** still use classes from other packages that happen to have the same name as ones you find in TF Layers! For example, instead of using the TF Layers version of the `conv2d` class, [tf.layers.conv2d](https://www.tensorflow.org/api_docs/python/tf/layers/conv2d), you would want to use the TF Neural Network version of `conv2d`, [tf.nn.conv2d](https://www.tensorflow.org/api_docs/python/tf/nn/conv2d). \n",
    "\n",
    "Let's begin!\n",
    "\n",
    "### Input\n",
    "The neural network needs to read the image data, one-hot encoded labels, and dropout keep probability. Implement the following functions\n",
    "* Implement `neural_net_image_input`\n",
    " * Return a [TF Placeholder](https://www.tensorflow.org/api_docs/python/tf/placeholder)\n",
    " * Set the shape using `image_shape` with batch size set to `None`.\n",
    " * Name the TensorFlow placeholder \"x\" using the TensorFlow `name` parameter in the [TF Placeholder](https://www.tensorflow.org/api_docs/python/tf/placeholder).\n",
    "* Implement `neural_net_label_input`\n",
    " * Return a [TF Placeholder](https://www.tensorflow.org/api_docs/python/tf/placeholder)\n",
    " * Set the shape using `n_classes` with batch size set to `None`.\n",
    " * Name the TensorFlow placeholder \"y\" using the TensorFlow `name` parameter in the [TF Placeholder](https://www.tensorflow.org/api_docs/python/tf/placeholder).\n",
    "* Implement `neural_net_keep_prob_input`\n",
    " * Return a [TF Placeholder](https://www.tensorflow.org/api_docs/python/tf/placeholder) for dropout keep probability.\n",
    " * Name the TensorFlow placeholder \"keep_prob\" using the TensorFlow `name` parameter in the [TF Placeholder](https://www.tensorflow.org/api_docs/python/tf/placeholder).\n",
    "\n",
    "These names will be used at the end of the project to load your saved model.\n",
    "\n",
    "Note: `None` for shapes in TensorFlow allow for a dynamic size."
   ]
  },
  {
   "cell_type": "code",
   "execution_count": 21,
   "metadata": {},
   "outputs": [
    {
     "name": "stdout",
     "output_type": "stream",
     "text": [
      "Image Input Tests Passed.\n",
      "Label Input Tests Passed.\n",
      "Keep Prob Tests Passed.\n"
     ]
    }
   ],
   "source": [
    "import tensorflow as tf\n",
    "\n",
    "def neural_net_image_input(image_shape):\n",
    "    \"\"\"\n",
    "    Return a Tensor for a batch of image input\n",
    "    : image_shape: Shape of the images\n",
    "    : return: Tensor for image input.\n",
    "    \"\"\"\n",
    "    return tf.placeholder(tf.float32, [None, image_shape[0], image_shape[1],image_shape[2]], name = 'x')\n",
    "\n",
    "\n",
    "def neural_net_label_input(n_classes):\n",
    "    \"\"\"\n",
    "    Return a Tensor for a batch of label input\n",
    "    : n_classes: Number of classes\n",
    "    : return: Tensor for label input.\n",
    "    \"\"\"\n",
    "    # TODO: Implement Function\n",
    "    return tf.placeholder(tf.float32, [None, n_classes], name = 'y')\n",
    "\n",
    "\n",
    "def neural_net_keep_prob_input():\n",
    "    \"\"\"\n",
    "    Return a Tensor for keep probability\n",
    "    : return: Tensor for keep probability.\n",
    "    \"\"\"\n",
    "    # TODO: Implement Function\n",
    "    return tf.placeholder(tf.float32, name = \"keep_prob\")\n",
    "\n",
    "\n",
    "\"\"\"\n",
    "DON'T MODIFY ANYTHING IN THIS CELL THAT IS BELOW THIS LINE\n",
    "\"\"\"\n",
    "tf.reset_default_graph()\n",
    "tests.test_nn_image_inputs(neural_net_image_input)\n",
    "tests.test_nn_label_inputs(neural_net_label_input)\n",
    "tests.test_nn_keep_prob_inputs(neural_net_keep_prob_input)"
   ]
  },
  {
   "cell_type": "markdown",
   "metadata": {},
   "source": [
    "### Convolution and Max Pooling Layer\n",
    "Convolution layers have a lot of success with images. For this code cell, you should implement the function `conv2d_maxpool` to apply convolution then max pooling:\n",
    "* Create the weight and bias using `conv_ksize`, `conv_num_outputs` and the shape of `x_tensor`.\n",
    "* Apply a convolution to `x_tensor` using weight and `conv_strides`.\n",
    " * We recommend you use same padding, but you're welcome to use any padding.\n",
    "* Add bias\n",
    "* Add a nonlinear activation to the convolution.\n",
    "* Apply Max Pooling using `pool_ksize` and `pool_strides`.\n",
    " * We recommend you use same padding, but you're welcome to use any padding.\n",
    "\n",
    "**Note:** You **can't** use [TensorFlow Layers](https://www.tensorflow.org/api_docs/python/tf/layers) or [TensorFlow Layers (contrib)](https://www.tensorflow.org/api_guides/python/contrib.layers) for **this** layer, but you can still use TensorFlow's [Neural Network](https://www.tensorflow.org/api_docs/python/tf/nn) package. You may still use the shortcut option for all the **other** layers.\n",
    "\n",
    "** Hint: **\n",
    "\n",
    "When unpacking values as an argument in Python, look into the [unpacking](https://docs.python.org/3/tutorial/controlflow.html#unpacking-argument-lists) operator. "
   ]
  },
  {
   "cell_type": "code",
   "execution_count": 46,
   "metadata": {},
   "outputs": [
    {
     "name": "stdout",
     "output_type": "stream",
     "text": [
      "Tests Passed\n"
     ]
    }
   ],
   "source": [
    "import numpy as np\n",
    "\n",
    "def conv2d_maxpool(x_tensor, conv_num_outputs, conv_ksize, conv_strides, pool_ksize, pool_strides):\n",
    "    \"\"\"\n",
    "    Apply convolution then max pooling to x_tensor\n",
    "    :param x_tensor: TensorFlow Tensor\n",
    "    :param conv_num_outputs: Number of outputs for the convolutional layer\n",
    "    :param conv_ksize: kernal size 2-D Tuple for the convolutional layer\n",
    "    :param conv_strides: Stride 2-D Tuple for convolution\n",
    "    :param pool_ksize: kernal size 2-D Tuple for pool\n",
    "    :param pool_strides: Stride 2-D Tuple for pool\n",
    "    : return: A tensor that represents convolution and max pooling of x_tensor\n",
    "    \"\"\"    \n",
    "    # Get number of input channels from shape of input    \n",
    "    in_channels = int(x_tensor.shape[3])    \n",
    "    \n",
    "    # Weights for conv layer     \n",
    "    # Use Xavier Initialization for weights\n",
    "    stddev = np.sqrt(2/x_tensor.shape[-1].value)\n",
    "#     stddev = 0.1\n",
    "    weights = tf.Variable(tf.truncated_normal([conv_ksize[0], conv_ksize[1], in_channels, conv_num_outputs], stddev=stddev))\n",
    "    \n",
    "    # Bias for conv layer     \n",
    "    bias = tf.Variable(tf.truncated_normal([conv_num_outputs], stddev = 0.05))\n",
    "    \n",
    "    # Perform convolution with given strides\n",
    "    conv_layer = tf.nn.conv2d(x_tensor, weights, strides = [1, conv_strides[0], conv_strides[1], 1], padding='SAME')\n",
    "    \n",
    "    # Add bias\n",
    "    conv_layer = tf.nn.bias_add(conv_layer, bias)\n",
    "    \n",
    "    \n",
    "    # Max pooling\n",
    "    maxpool_layer = tf.nn.max_pool(conv_layer, ksize=[1, pool_ksize[0], pool_ksize[1], 1],\n",
    "                                   strides=[1, pool_strides[0], pool_strides[1],1], padding='SAME')\n",
    "    \n",
    "\n",
    "    # Apply non-linear activation\n",
    "    conv_layer = tf.nn.relu(maxpool_layer)\n",
    "    \n",
    "    return conv_layer\n",
    "\n",
    "\n",
    "\"\"\"\n",
    "DON'T MODIFY ANYTHING IN THIS CELL THAT IS BELOW THIS LINE\n",
    "\"\"\"\n",
    "tests.test_con_pool(conv2d_maxpool)"
   ]
  },
  {
   "cell_type": "markdown",
   "metadata": {},
   "source": [
    "### Flatten Layer\n",
    "Implement the `flatten` function to change the dimension of `x_tensor` from a 4-D tensor to a 2-D tensor.  The output should be the shape (*Batch Size*, *Flattened Image Size*). Shortcut option: you can use classes from the [TensorFlow Layers](https://www.tensorflow.org/api_docs/python/tf/layers) or [TensorFlow Layers (contrib)](https://www.tensorflow.org/api_guides/python/contrib.layers) packages for this layer. For more of a challenge, only use other TensorFlow packages."
   ]
  },
  {
   "cell_type": "code",
   "execution_count": 24,
   "metadata": {},
   "outputs": [
    {
     "name": "stdout",
     "output_type": "stream",
     "text": [
      "Tests Passed\n"
     ]
    }
   ],
   "source": [
    "def flatten(x_tensor):\n",
    "    \"\"\"\n",
    "    Flatten x_tensor to (Batch Size, Flattened Image Size)\n",
    "    : x_tensor: A tensor of size (Batch Size, ...), where ... are the image dimensions.\n",
    "    : return: A tensor of size (Batch Size, Flattened Image Size).\n",
    "    \"\"\"\n",
    "    # TODO: Implement Function\n",
    "    return tf.contrib.layers.flatten(x_tensor)\n",
    "\n",
    "\n",
    "\"\"\"\n",
    "DON'T MODIFY ANYTHING IN THIS CELL THAT IS BELOW THIS LINE\n",
    "\"\"\"\n",
    "tests.test_flatten(flatten)"
   ]
  },
  {
   "cell_type": "markdown",
   "metadata": {},
   "source": [
    "### Fully-Connected Layer\n",
    "Implement the `fully_conn` function to apply a fully connected layer to `x_tensor` with the shape (*Batch Size*, *num_outputs*). Shortcut option: you can use classes from the [TensorFlow Layers](https://www.tensorflow.org/api_docs/python/tf/layers) or [TensorFlow Layers (contrib)](https://www.tensorflow.org/api_guides/python/contrib.layers) packages for this layer. For more of a challenge, only use other TensorFlow packages."
   ]
  },
  {
   "cell_type": "code",
   "execution_count": 7,
   "metadata": {},
   "outputs": [
    {
     "name": "stdout",
     "output_type": "stream",
     "text": [
      "Tests Passed\n"
     ]
    }
   ],
   "source": [
    "def fully_conn(x_tensor, num_outputs):\n",
    "    \"\"\"\n",
    "    Apply a fully connected layer to x_tensor using weight and bias\n",
    "    : x_tensor: A 2-D tensor where the first dimension is batch size.\n",
    "    : num_outputs: The number of output that the new tensor should be.\n",
    "    : return: A 2-D tensor where the second dimension is num_outputs.\n",
    "    \"\"\"\n",
    "    \n",
    "    return tf.contrib.layers.fully_connected(x_tensor, num_outputs)\n",
    "\n",
    "\n",
    "\"\"\"\n",
    "DON'T MODIFY ANYTHING IN THIS CELL THAT IS BELOW THIS LINE\n",
    "\"\"\"\n",
    "tests.test_fully_conn(fully_conn)"
   ]
  },
  {
   "cell_type": "markdown",
   "metadata": {},
   "source": [
    "### Output Layer\n",
    "Implement the `output` function to apply a fully connected layer to `x_tensor` with the shape (*Batch Size*, *num_outputs*). Shortcut option: you can use classes from the [TensorFlow Layers](https://www.tensorflow.org/api_docs/python/tf/layers) or [TensorFlow Layers (contrib)](https://www.tensorflow.org/api_guides/python/contrib.layers) packages for this layer. For more of a challenge, only use other TensorFlow packages.\n",
    "\n",
    "**Note:** Activation, softmax, or cross entropy should **not** be applied to this."
   ]
  },
  {
   "cell_type": "code",
   "execution_count": 25,
   "metadata": {},
   "outputs": [
    {
     "name": "stdout",
     "output_type": "stream",
     "text": [
      "Tests Passed\n"
     ]
    }
   ],
   "source": [
    "def output(x_tensor, num_outputs):\n",
    "    \"\"\"\n",
    "    Apply a output layer to x_tensor using weight and bias\n",
    "    : x_tensor: A 2-D tensor where the first dimension is batch size.\n",
    "    : num_outputs: The number of output that the new tensor should be.\n",
    "    : return: A 2-D tensor where the second dimension is num_outputs.\n",
    "    \"\"\"\n",
    "    return tf.contrib.layers.fully_connected(x_tensor, num_outputs, activation_fn=None)\n",
    "\n",
    "\n",
    "\"\"\"\n",
    "DON'T MODIFY ANYTHING IN THIS CELL THAT IS BELOW THIS LINE\n",
    "\"\"\"\n",
    "tests.test_output(output)"
   ]
  },
  {
   "cell_type": "markdown",
   "metadata": {},
   "source": [
    "### Create Convolutional Model\n",
    "Implement the function `conv_net` to create a convolutional neural network model. The function takes in a batch of images, `x`, and outputs logits.  Use the layers you created above to create this model:\n",
    "\n",
    "* Apply 1, 2, or 3 Convolution and Max Pool layers\n",
    "* Apply a Flatten Layer\n",
    "* Apply 1, 2, or 3 Fully Connected Layers\n",
    "* Apply an Output Layer\n",
    "* Return the output\n",
    "* Apply [TensorFlow's Dropout](https://www.tensorflow.org/api_docs/python/tf/nn/dropout) to one or more layers in the model using `keep_prob`. "
   ]
  },
  {
   "cell_type": "code",
   "execution_count": 48,
   "metadata": {},
   "outputs": [
    {
     "name": "stdout",
     "output_type": "stream",
     "text": [
      "Neural Network Built!\n"
     ]
    }
   ],
   "source": [
    "def conv_net(x, keep_prob):\n",
    "    \"\"\"\n",
    "    Create a convolutional neural network model\n",
    "    : x: Placeholder tensor that holds image data.\n",
    "    : keep_prob: Placeholder tensor that hold dropout keep probability.\n",
    "    : return: Tensor that represents logits\n",
    "    \"\"\"\n",
    "    # TODO: Apply 1, 2, or 3 Convolution and Max Pool layers\n",
    "    #    Play around with different number of outputs, kernel size and stride\n",
    "    # Function Definition from Above:\n",
    "    #    conv2d_maxpool(x_tensor, conv_num_outputs, conv_ksize, conv_strides, pool_ksize, pool_strides)\n",
    "\n",
    "    # First convolution\n",
    "    conv_num_out = 64\n",
    "    conv_ksize = (4, 4)\n",
    "    conv_strides = (2, 2)\n",
    "    pool_ksize = (2, 2)\n",
    "    pool_strides = (2, 2)\n",
    "    \n",
    "    conv_maxpool = conv2d_maxpool(x, conv_num_out, conv_ksize, conv_strides, pool_ksize, pool_strides)\n",
    "    \n",
    "    # Second convolution\n",
    "    conv_num_out = 128\n",
    "    conv_ksize = (4, 4)\n",
    "    conv_strides = (2, 2)\n",
    "    pool_ksize = (2, 2)\n",
    "    pool_strides = (2, 2)\n",
    "    \n",
    "    conv_maxpool = conv2d_maxpool(conv_maxpool, conv_num_out, conv_ksize, conv_strides, pool_ksize, pool_strides)\n",
    "\n",
    "    \n",
    "    # TODO: Apply a Flatten Layer\n",
    "    # Function Definition from Above:\n",
    "    #   flatten(x_tensor)\n",
    "    \n",
    "    flattened_layer = flatten(conv_maxpool)\n",
    "    \n",
    "\n",
    "    # TODO: Apply 1, 2, or 3 Fully Connected Layers\n",
    "    #    Play around with different number of outputs\n",
    "    # Function Definition from Above:\n",
    "    #   fully_conn(x_tensor, num_outputs)\n",
    "    \n",
    "    fc_out = fully_conn(flattened_layer, 512 )\n",
    "\n",
    "    fc_out = fully_conn(fc_out, 128)\n",
    "    \n",
    "    # Apply dropout\n",
    "    fc_out = tf.nn.dropout(fc_out, keep_prob)\n",
    "    \n",
    "    # TODO: Apply an Output Layer\n",
    "    #    Set this to the number of classes\n",
    "    # Function Definition from Above:\n",
    "    #   output(x_tensor, num_outputs)\n",
    "    \n",
    "    n_classes = 10\n",
    "    output_layer = output(fc_out, n_classes)\n",
    "    \n",
    "    \n",
    "    # TODO: return output\n",
    "    return output_layer\n",
    "\n",
    "\n",
    "\"\"\"\n",
    "DON'T MODIFY ANYTHING IN THIS CELL THAT IS BELOW THIS LINE\n",
    "\"\"\"\n",
    "\n",
    "##############################\n",
    "## Build the Neural Network ##\n",
    "##############################\n",
    "\n",
    "# Remove previous weights, bias, inputs, etc..\n",
    "tf.reset_default_graph()\n",
    "\n",
    "# Inputs\n",
    "x = neural_net_image_input((32, 32, 3))\n",
    "y = neural_net_label_input(10)\n",
    "keep_prob = neural_net_keep_prob_input()\n",
    "\n",
    "# Model\n",
    "logits = conv_net(x, keep_prob)\n",
    "\n",
    "# Name logits Tensor, so that is can be loaded from disk after training\n",
    "logits = tf.identity(logits, name='logits')\n",
    "\n",
    "# Loss and Optimizer\n",
    "cost = tf.reduce_mean(tf.nn.softmax_cross_entropy_with_logits(logits=logits, labels=y))\n",
    "optimizer = tf.train.AdamOptimizer().minimize(cost)\n",
    "\n",
    "# Accuracy\n",
    "correct_pred = tf.equal(tf.argmax(logits, 1), tf.argmax(y, 1))\n",
    "accuracy = tf.reduce_mean(tf.cast(correct_pred, tf.float32), name='accuracy')\n",
    "\n",
    "tests.test_conv_net(conv_net)"
   ]
  },
  {
   "cell_type": "markdown",
   "metadata": {},
   "source": [
    "## Train the Neural Network\n",
    "### Single Optimization\n",
    "Implement the function `train_neural_network` to do a single optimization.  The optimization should use `optimizer` to optimize in `session` with a `feed_dict` of the following:\n",
    "* `x` for image input\n",
    "* `y` for labels\n",
    "* `keep_prob` for keep probability for dropout\n",
    "\n",
    "This function will be called for each batch, so `tf.global_variables_initializer()` has already been called.\n",
    "\n",
    "Note: Nothing needs to be returned. This function is only optimizing the neural network."
   ]
  },
  {
   "cell_type": "code",
   "execution_count": 27,
   "metadata": {},
   "outputs": [
    {
     "name": "stdout",
     "output_type": "stream",
     "text": [
      "Tests Passed\n"
     ]
    }
   ],
   "source": [
    "def train_neural_network(session, optimizer, keep_probability, feature_batch, label_batch):\n",
    "    \"\"\"\n",
    "    Optimize the session on a batch of images and labels\n",
    "    : session: Current TensorFlow session\n",
    "    : optimizer: TensorFlow optimizer function\n",
    "    : keep_probability: keep probability\n",
    "    : feature_batch: Batch of Numpy image data\n",
    "    : label_batch: Batch of Numpy label data\n",
    "    \"\"\"\n",
    "    # TODO: Implement Function\n",
    "    session.run(optimizer, feed_dict = {x: feature_batch, y: label_batch, keep_prob: keep_probability})\n",
    "#     pass\n",
    "\n",
    "\n",
    "\"\"\"\n",
    "DON'T MODIFY ANYTHING IN THIS CELL THAT IS BELOW THIS LINE\n",
    "\"\"\"\n",
    "tests.test_train_nn(train_neural_network)"
   ]
  },
  {
   "cell_type": "markdown",
   "metadata": {},
   "source": [
    "### Show Stats\n",
    "Implement the function `print_stats` to print loss and validation accuracy.  Use the global variables `valid_features` and `valid_labels` to calculate validation accuracy.  Use a keep probability of `1.0` to calculate the loss and validation accuracy."
   ]
  },
  {
   "cell_type": "code",
   "execution_count": 28,
   "metadata": {
    "collapsed": true
   },
   "outputs": [],
   "source": [
    "def print_stats(session, feature_batch, label_batch, cost, accuracy):\n",
    "    \"\"\"\n",
    "    Print information about loss and validation accuracy\n",
    "    : session: Current TensorFlow session\n",
    "    : feature_batch: Batch of Numpy image data\n",
    "    : label_batch: Batch of Numpy label data\n",
    "    : cost: TensorFlow cost function\n",
    "    : accuracy: TensorFlow accuracy function\n",
    "    \"\"\"\n",
    "    # TODO: Implement Function\n",
    "    loss = session.run(cost, feed_dict={x:feature_batch, y: label_batch, keep_prob: 1})\n",
    "    acc = session.run(accuracy, feed_dict={x:valid_features, y: valid_labels, keep_prob: 1})\n",
    "    \n",
    "    print(\"Minibatch loss={:.6f}, TrainingAccuracy={:.5f}\".format(loss, acc))\n",
    "    pass"
   ]
  },
  {
   "cell_type": "markdown",
   "metadata": {},
   "source": [
    "### Hyperparameters\n",
    "Tune the following parameters:\n",
    "* Set `epochs` to the number of iterations until the network stops learning or start overfitting\n",
    "* Set `batch_size` to the highest number that your machine has memory for.  Most people set them to common sizes of memory:\n",
    " * 64\n",
    " * 128\n",
    " * 256\n",
    " * ...\n",
    "* Set `keep_probability` to the probability of keeping a node using dropout"
   ]
  },
  {
   "cell_type": "code",
   "execution_count": 49,
   "metadata": {
    "collapsed": true
   },
   "outputs": [],
   "source": [
    "# TODO: Tune Parameters\n",
    "epochs = 50\n",
    "batch_size = 512\n",
    "keep_probability = 0.75"
   ]
  },
  {
   "cell_type": "markdown",
   "metadata": {},
   "source": [
    "### Train on a Single CIFAR-10 Batch\n",
    "Instead of training the neural network on all the CIFAR-10 batches of data, let's use a single batch. This should save time while you iterate on the model to get a better accuracy.  Once the final validation accuracy is 50% or greater, run the model on all the data in the next section."
   ]
  },
  {
   "cell_type": "code",
   "execution_count": 50,
   "metadata": {
    "scrolled": false
   },
   "outputs": [
    {
     "name": "stdout",
     "output_type": "stream",
     "text": [
      "Checking the Training on a Single Batch...\n",
      "Epoch  1, CIFAR-10 Batch 1:  Minibatch loss=2.236882, TrainingAccuracy=0.15920\n",
      "Epoch  2, CIFAR-10 Batch 1:  Minibatch loss=2.114177, TrainingAccuracy=0.24620\n",
      "Epoch  3, CIFAR-10 Batch 1:  Minibatch loss=1.973826, TrainingAccuracy=0.29340\n",
      "Epoch  4, CIFAR-10 Batch 1:  Minibatch loss=1.855985, TrainingAccuracy=0.34840\n",
      "Epoch  5, CIFAR-10 Batch 1:  Minibatch loss=1.778389, TrainingAccuracy=0.36940\n",
      "Epoch  6, CIFAR-10 Batch 1:  Minibatch loss=1.677250, TrainingAccuracy=0.39320\n",
      "Epoch  7, CIFAR-10 Batch 1:  Minibatch loss=1.612605, TrainingAccuracy=0.40240\n",
      "Epoch  8, CIFAR-10 Batch 1:  Minibatch loss=1.535322, TrainingAccuracy=0.41420\n",
      "Epoch  9, CIFAR-10 Batch 1:  Minibatch loss=1.470571, TrainingAccuracy=0.42060\n",
      "Epoch 10, CIFAR-10 Batch 1:  Minibatch loss=1.389009, TrainingAccuracy=0.44300\n",
      "Epoch 11, CIFAR-10 Batch 1:  Minibatch loss=1.352864, TrainingAccuracy=0.44720\n",
      "Epoch 12, CIFAR-10 Batch 1:  Minibatch loss=1.318658, TrainingAccuracy=0.45040\n",
      "Epoch 13, CIFAR-10 Batch 1:  Minibatch loss=1.249738, TrainingAccuracy=0.45440\n",
      "Epoch 14, CIFAR-10 Batch 1:  Minibatch loss=1.192507, TrainingAccuracy=0.46360\n",
      "Epoch 15, CIFAR-10 Batch 1:  Minibatch loss=1.145146, TrainingAccuracy=0.46960\n",
      "Epoch 16, CIFAR-10 Batch 1:  Minibatch loss=1.132417, TrainingAccuracy=0.47300\n",
      "Epoch 17, CIFAR-10 Batch 1:  Minibatch loss=1.100946, TrainingAccuracy=0.47840\n",
      "Epoch 18, CIFAR-10 Batch 1:  Minibatch loss=1.051552, TrainingAccuracy=0.47200\n",
      "Epoch 19, CIFAR-10 Batch 1:  Minibatch loss=1.013354, TrainingAccuracy=0.48280\n",
      "Epoch 20, CIFAR-10 Batch 1:  Minibatch loss=0.958481, TrainingAccuracy=0.50040\n",
      "Epoch 21, CIFAR-10 Batch 1:  Minibatch loss=0.903204, TrainingAccuracy=0.50340\n",
      "Epoch 22, CIFAR-10 Batch 1:  Minibatch loss=0.845728, TrainingAccuracy=0.50560\n",
      "Epoch 23, CIFAR-10 Batch 1:  Minibatch loss=0.811796, TrainingAccuracy=0.50140\n",
      "Epoch 24, CIFAR-10 Batch 1:  Minibatch loss=0.757767, TrainingAccuracy=0.51560\n",
      "Epoch 25, CIFAR-10 Batch 1:  Minibatch loss=0.694069, TrainingAccuracy=0.50820\n",
      "Epoch 26, CIFAR-10 Batch 1:  Minibatch loss=0.686560, TrainingAccuracy=0.48780\n",
      "Epoch 27, CIFAR-10 Batch 1:  Minibatch loss=0.697834, TrainingAccuracy=0.47640\n",
      "Epoch 28, CIFAR-10 Batch 1:  Minibatch loss=0.614225, TrainingAccuracy=0.50840\n",
      "Epoch 29, CIFAR-10 Batch 1:  Minibatch loss=0.571674, TrainingAccuracy=0.50740\n",
      "Epoch 30, CIFAR-10 Batch 1:  Minibatch loss=0.587716, TrainingAccuracy=0.49380\n",
      "Epoch 31, CIFAR-10 Batch 1:  Minibatch loss=0.563338, TrainingAccuracy=0.50520\n",
      "Epoch 32, CIFAR-10 Batch 1:  Minibatch loss=0.586108, TrainingAccuracy=0.49480\n",
      "Epoch 33, CIFAR-10 Batch 1:  Minibatch loss=0.548124, TrainingAccuracy=0.50000\n",
      "Epoch 34, CIFAR-10 Batch 1:  Minibatch loss=0.518009, TrainingAccuracy=0.49960\n",
      "Epoch 35, CIFAR-10 Batch 1:  Minibatch loss=0.609549, TrainingAccuracy=0.46600\n",
      "Epoch 36, CIFAR-10 Batch 1:  Minibatch loss=0.450680, TrainingAccuracy=0.52260\n",
      "Epoch 37, CIFAR-10 Batch 1:  Minibatch loss=0.382704, TrainingAccuracy=0.52960\n",
      "Epoch 38, CIFAR-10 Batch 1:  Minibatch loss=0.357896, TrainingAccuracy=0.51840\n",
      "Epoch 39, CIFAR-10 Batch 1:  Minibatch loss=0.298176, TrainingAccuracy=0.52980\n",
      "Epoch 40, CIFAR-10 Batch 1:  Minibatch loss=0.292359, TrainingAccuracy=0.52960\n",
      "Epoch 41, CIFAR-10 Batch 1:  Minibatch loss=0.314958, TrainingAccuracy=0.51060\n",
      "Epoch 42, CIFAR-10 Batch 1:  Minibatch loss=0.276309, TrainingAccuracy=0.51540\n",
      "Epoch 43, CIFAR-10 Batch 1:  Minibatch loss=0.297374, TrainingAccuracy=0.50880\n",
      "Epoch 44, CIFAR-10 Batch 1:  Minibatch loss=0.316651, TrainingAccuracy=0.49520\n",
      "Epoch 45, CIFAR-10 Batch 1:  Minibatch loss=0.307519, TrainingAccuracy=0.51100\n",
      "Epoch 46, CIFAR-10 Batch 1:  Minibatch loss=0.311976, TrainingAccuracy=0.50320\n",
      "Epoch 47, CIFAR-10 Batch 1:  Minibatch loss=0.337578, TrainingAccuracy=0.49540\n",
      "Epoch 48, CIFAR-10 Batch 1:  Minibatch loss=0.293073, TrainingAccuracy=0.51020\n",
      "Epoch 49, CIFAR-10 Batch 1:  Minibatch loss=0.230861, TrainingAccuracy=0.50960\n",
      "Epoch 50, CIFAR-10 Batch 1:  Minibatch loss=0.200035, TrainingAccuracy=0.50760\n"
     ]
    }
   ],
   "source": [
    "\"\"\"\n",
    "DON'T MODIFY ANYTHING IN THIS CELL\n",
    "\"\"\"\n",
    "print('Checking the Training on a Single Batch...')\n",
    "with tf.Session() as sess:\n",
    "    # Initializing the variables\n",
    "    sess.run(tf.global_variables_initializer())\n",
    "    \n",
    "    # Training cycle\n",
    "    for epoch in range(epochs):\n",
    "        batch_i = 1\n",
    "        for batch_features, batch_labels in helper.load_preprocess_training_batch(batch_i, batch_size):\n",
    "            train_neural_network(sess, optimizer, keep_probability, batch_features, batch_labels)\n",
    "        print('Epoch {:>2}, CIFAR-10 Batch {}:  '.format(epoch + 1, batch_i), end='')\n",
    "        print_stats(sess, batch_features, batch_labels, cost, accuracy)"
   ]
  },
  {
   "cell_type": "markdown",
   "metadata": {},
   "source": [
    "### Fully Train the Model\n",
    "Now that you got a good accuracy with a single CIFAR-10 batch, try it with all five batches."
   ]
  },
  {
   "cell_type": "code",
   "execution_count": 51,
   "metadata": {
    "scrolled": false
   },
   "outputs": [
    {
     "name": "stdout",
     "output_type": "stream",
     "text": [
      "Training...\n",
      "Epoch  1, CIFAR-10 Batch 1:  Minibatch loss=2.306139, TrainingAccuracy=0.12420\n",
      "Epoch  1, CIFAR-10 Batch 2:  Minibatch loss=2.141215, TrainingAccuracy=0.18400\n",
      "Epoch  1, CIFAR-10 Batch 3:  Minibatch loss=2.106733, TrainingAccuracy=0.23160\n",
      "Epoch  1, CIFAR-10 Batch 4:  Minibatch loss=2.011129, TrainingAccuracy=0.23940\n",
      "Epoch  1, CIFAR-10 Batch 5:  Minibatch loss=1.933517, TrainingAccuracy=0.27920\n",
      "Epoch  2, CIFAR-10 Batch 1:  Minibatch loss=1.932648, TrainingAccuracy=0.32700\n",
      "Epoch  2, CIFAR-10 Batch 2:  Minibatch loss=1.844196, TrainingAccuracy=0.31660\n",
      "Epoch  2, CIFAR-10 Batch 3:  Minibatch loss=1.710111, TrainingAccuracy=0.35840\n",
      "Epoch  2, CIFAR-10 Batch 4:  Minibatch loss=1.675487, TrainingAccuracy=0.36840\n",
      "Epoch  2, CIFAR-10 Batch 5:  Minibatch loss=1.676975, TrainingAccuracy=0.39400\n",
      "Epoch  3, CIFAR-10 Batch 1:  Minibatch loss=1.737180, TrainingAccuracy=0.39380\n",
      "Epoch  3, CIFAR-10 Batch 2:  Minibatch loss=1.621838, TrainingAccuracy=0.40260\n",
      "Epoch  3, CIFAR-10 Batch 3:  Minibatch loss=1.454262, TrainingAccuracy=0.42020\n",
      "Epoch  3, CIFAR-10 Batch 4:  Minibatch loss=1.486328, TrainingAccuracy=0.42580\n",
      "Epoch  3, CIFAR-10 Batch 5:  Minibatch loss=1.525882, TrainingAccuracy=0.43200\n",
      "Epoch  4, CIFAR-10 Batch 1:  Minibatch loss=1.586408, TrainingAccuracy=0.43800\n",
      "Epoch  4, CIFAR-10 Batch 2:  Minibatch loss=1.478065, TrainingAccuracy=0.44060\n",
      "Epoch  4, CIFAR-10 Batch 3:  Minibatch loss=1.360115, TrainingAccuracy=0.44920\n",
      "Epoch  4, CIFAR-10 Batch 4:  Minibatch loss=1.354383, TrainingAccuracy=0.46860\n",
      "Epoch  4, CIFAR-10 Batch 5:  Minibatch loss=1.432271, TrainingAccuracy=0.46520\n",
      "Epoch  5, CIFAR-10 Batch 1:  Minibatch loss=1.480584, TrainingAccuracy=0.46960\n",
      "Epoch  5, CIFAR-10 Batch 2:  Minibatch loss=1.365448, TrainingAccuracy=0.47760\n",
      "Epoch  5, CIFAR-10 Batch 3:  Minibatch loss=1.260481, TrainingAccuracy=0.47680\n",
      "Epoch  5, CIFAR-10 Batch 4:  Minibatch loss=1.273694, TrainingAccuracy=0.50360\n",
      "Epoch  5, CIFAR-10 Batch 5:  Minibatch loss=1.314767, TrainingAccuracy=0.49800\n",
      "Epoch  6, CIFAR-10 Batch 1:  Minibatch loss=1.356628, TrainingAccuracy=0.49460\n",
      "Epoch  6, CIFAR-10 Batch 2:  Minibatch loss=1.265279, TrainingAccuracy=0.49360\n",
      "Epoch  6, CIFAR-10 Batch 3:  Minibatch loss=1.160663, TrainingAccuracy=0.50840\n",
      "Epoch  6, CIFAR-10 Batch 4:  Minibatch loss=1.176495, TrainingAccuracy=0.52920\n",
      "Epoch  6, CIFAR-10 Batch 5:  Minibatch loss=1.216070, TrainingAccuracy=0.51700\n",
      "Epoch  7, CIFAR-10 Batch 1:  Minibatch loss=1.268419, TrainingAccuracy=0.51740\n",
      "Epoch  7, CIFAR-10 Batch 2:  Minibatch loss=1.196849, TrainingAccuracy=0.51580\n",
      "Epoch  7, CIFAR-10 Batch 3:  Minibatch loss=1.102813, TrainingAccuracy=0.51900\n",
      "Epoch  7, CIFAR-10 Batch 4:  Minibatch loss=1.092123, TrainingAccuracy=0.54040\n",
      "Epoch  7, CIFAR-10 Batch 5:  Minibatch loss=1.113977, TrainingAccuracy=0.53620\n",
      "Epoch  8, CIFAR-10 Batch 1:  Minibatch loss=1.188368, TrainingAccuracy=0.53320\n",
      "Epoch  8, CIFAR-10 Batch 2:  Minibatch loss=1.115754, TrainingAccuracy=0.54140\n",
      "Epoch  8, CIFAR-10 Batch 3:  Minibatch loss=0.992779, TrainingAccuracy=0.55820\n",
      "Epoch  8, CIFAR-10 Batch 4:  Minibatch loss=1.019855, TrainingAccuracy=0.55760\n",
      "Epoch  8, CIFAR-10 Batch 5:  Minibatch loss=1.033622, TrainingAccuracy=0.54560\n",
      "Epoch  9, CIFAR-10 Batch 1:  Minibatch loss=1.127661, TrainingAccuracy=0.55120\n",
      "Epoch  9, CIFAR-10 Batch 2:  Minibatch loss=1.017147, TrainingAccuracy=0.55040\n",
      "Epoch  9, CIFAR-10 Batch 3:  Minibatch loss=0.946324, TrainingAccuracy=0.56140\n",
      "Epoch  9, CIFAR-10 Batch 4:  Minibatch loss=0.965863, TrainingAccuracy=0.55680\n",
      "Epoch  9, CIFAR-10 Batch 5:  Minibatch loss=0.951367, TrainingAccuracy=0.56720\n",
      "Epoch 10, CIFAR-10 Batch 1:  Minibatch loss=1.071193, TrainingAccuracy=0.55540\n",
      "Epoch 10, CIFAR-10 Batch 2:  Minibatch loss=0.975168, TrainingAccuracy=0.54740\n",
      "Epoch 10, CIFAR-10 Batch 3:  Minibatch loss=0.910096, TrainingAccuracy=0.56700\n",
      "Epoch 10, CIFAR-10 Batch 4:  Minibatch loss=0.917475, TrainingAccuracy=0.57420\n",
      "Epoch 10, CIFAR-10 Batch 5:  Minibatch loss=0.931679, TrainingAccuracy=0.56440\n",
      "Epoch 11, CIFAR-10 Batch 1:  Minibatch loss=1.042055, TrainingAccuracy=0.57060\n",
      "Epoch 11, CIFAR-10 Batch 2:  Minibatch loss=0.954530, TrainingAccuracy=0.55520\n",
      "Epoch 11, CIFAR-10 Batch 3:  Minibatch loss=0.868955, TrainingAccuracy=0.56780\n",
      "Epoch 11, CIFAR-10 Batch 4:  Minibatch loss=0.869328, TrainingAccuracy=0.57760\n",
      "Epoch 11, CIFAR-10 Batch 5:  Minibatch loss=0.854122, TrainingAccuracy=0.58440\n",
      "Epoch 12, CIFAR-10 Batch 1:  Minibatch loss=0.920376, TrainingAccuracy=0.58480\n",
      "Epoch 12, CIFAR-10 Batch 2:  Minibatch loss=0.870882, TrainingAccuracy=0.57220\n",
      "Epoch 12, CIFAR-10 Batch 3:  Minibatch loss=0.797963, TrainingAccuracy=0.56780\n",
      "Epoch 12, CIFAR-10 Batch 4:  Minibatch loss=0.824262, TrainingAccuracy=0.58180\n",
      "Epoch 12, CIFAR-10 Batch 5:  Minibatch loss=0.803389, TrainingAccuracy=0.59600\n",
      "Epoch 13, CIFAR-10 Batch 1:  Minibatch loss=0.909283, TrainingAccuracy=0.58420\n",
      "Epoch 13, CIFAR-10 Batch 2:  Minibatch loss=0.819048, TrainingAccuracy=0.58380\n",
      "Epoch 13, CIFAR-10 Batch 3:  Minibatch loss=0.738659, TrainingAccuracy=0.58260\n",
      "Epoch 13, CIFAR-10 Batch 4:  Minibatch loss=0.774336, TrainingAccuracy=0.58600\n",
      "Epoch 13, CIFAR-10 Batch 5:  Minibatch loss=0.733576, TrainingAccuracy=0.59900\n",
      "Epoch 14, CIFAR-10 Batch 1:  Minibatch loss=0.842886, TrainingAccuracy=0.58740\n",
      "Epoch 14, CIFAR-10 Batch 2:  Minibatch loss=0.815920, TrainingAccuracy=0.58320\n",
      "Epoch 14, CIFAR-10 Batch 3:  Minibatch loss=0.682486, TrainingAccuracy=0.59620\n",
      "Epoch 14, CIFAR-10 Batch 4:  Minibatch loss=0.725872, TrainingAccuracy=0.59180\n",
      "Epoch 14, CIFAR-10 Batch 5:  Minibatch loss=0.690901, TrainingAccuracy=0.60260\n",
      "Epoch 15, CIFAR-10 Batch 1:  Minibatch loss=0.756635, TrainingAccuracy=0.60420\n",
      "Epoch 15, CIFAR-10 Batch 2:  Minibatch loss=0.774704, TrainingAccuracy=0.58600\n",
      "Epoch 15, CIFAR-10 Batch 3:  Minibatch loss=0.652499, TrainingAccuracy=0.59860\n",
      "Epoch 15, CIFAR-10 Batch 4:  Minibatch loss=0.682658, TrainingAccuracy=0.59700\n",
      "Epoch 15, CIFAR-10 Batch 5:  Minibatch loss=0.624136, TrainingAccuracy=0.60540\n",
      "Epoch 16, CIFAR-10 Batch 1:  Minibatch loss=0.732268, TrainingAccuracy=0.60180\n",
      "Epoch 16, CIFAR-10 Batch 2:  Minibatch loss=0.744151, TrainingAccuracy=0.59680\n",
      "Epoch 16, CIFAR-10 Batch 3:  Minibatch loss=0.667266, TrainingAccuracy=0.58260\n",
      "Epoch 16, CIFAR-10 Batch 4:  Minibatch loss=0.627399, TrainingAccuracy=0.59480\n",
      "Epoch 16, CIFAR-10 Batch 5:  Minibatch loss=0.644983, TrainingAccuracy=0.59960\n",
      "Epoch 17, CIFAR-10 Batch 1:  Minibatch loss=0.746285, TrainingAccuracy=0.59640\n",
      "Epoch 17, CIFAR-10 Batch 2:  Minibatch loss=0.697626, TrainingAccuracy=0.59860\n",
      "Epoch 17, CIFAR-10 Batch 3:  Minibatch loss=0.586853, TrainingAccuracy=0.59860\n",
      "Epoch 17, CIFAR-10 Batch 4:  Minibatch loss=0.616998, TrainingAccuracy=0.59640\n",
      "Epoch 17, CIFAR-10 Batch 5:  Minibatch loss=0.644837, TrainingAccuracy=0.58240\n",
      "Epoch 18, CIFAR-10 Batch 1:  Minibatch loss=0.707124, TrainingAccuracy=0.59260\n",
      "Epoch 18, CIFAR-10 Batch 2:  Minibatch loss=0.672005, TrainingAccuracy=0.61960\n",
      "Epoch 18, CIFAR-10 Batch 3:  Minibatch loss=0.548048, TrainingAccuracy=0.59800\n",
      "Epoch 18, CIFAR-10 Batch 4:  Minibatch loss=0.567019, TrainingAccuracy=0.60160\n",
      "Epoch 18, CIFAR-10 Batch 5:  Minibatch loss=0.552481, TrainingAccuracy=0.60840\n",
      "Epoch 19, CIFAR-10 Batch 1:  Minibatch loss=0.652195, TrainingAccuracy=0.59460\n",
      "Epoch 19, CIFAR-10 Batch 2:  Minibatch loss=0.639911, TrainingAccuracy=0.60360\n",
      "Epoch 19, CIFAR-10 Batch 3:  Minibatch loss=0.473211, TrainingAccuracy=0.61860\n",
      "Epoch 19, CIFAR-10 Batch 4:  Minibatch loss=0.547266, TrainingAccuracy=0.60200\n",
      "Epoch 19, CIFAR-10 Batch 5:  Minibatch loss=0.502748, TrainingAccuracy=0.60280\n",
      "Epoch 20, CIFAR-10 Batch 1:  Minibatch loss=0.603320, TrainingAccuracy=0.60660\n",
      "Epoch 20, CIFAR-10 Batch 2:  Minibatch loss=0.637512, TrainingAccuracy=0.57440\n",
      "Epoch 20, CIFAR-10 Batch 3:  Minibatch loss=0.489255, TrainingAccuracy=0.60980\n",
      "Epoch 20, CIFAR-10 Batch 4:  Minibatch loss=0.513658, TrainingAccuracy=0.61240\n",
      "Epoch 20, CIFAR-10 Batch 5:  Minibatch loss=0.479220, TrainingAccuracy=0.60580\n",
      "Epoch 21, CIFAR-10 Batch 1:  Minibatch loss=0.562894, TrainingAccuracy=0.62280\n",
      "Epoch 21, CIFAR-10 Batch 2:  Minibatch loss=0.601186, TrainingAccuracy=0.57500\n",
      "Epoch 21, CIFAR-10 Batch 3:  Minibatch loss=0.452871, TrainingAccuracy=0.61220\n",
      "Epoch 21, CIFAR-10 Batch 4:  Minibatch loss=0.455145, TrainingAccuracy=0.62160\n"
     ]
    },
    {
     "name": "stdout",
     "output_type": "stream",
     "text": [
      "Epoch 21, CIFAR-10 Batch 5:  Minibatch loss=0.442519, TrainingAccuracy=0.61180\n",
      "Epoch 22, CIFAR-10 Batch 1:  Minibatch loss=0.509269, TrainingAccuracy=0.62460\n",
      "Epoch 22, CIFAR-10 Batch 2:  Minibatch loss=0.584962, TrainingAccuracy=0.56720\n",
      "Epoch 22, CIFAR-10 Batch 3:  Minibatch loss=0.452325, TrainingAccuracy=0.61460\n",
      "Epoch 22, CIFAR-10 Batch 4:  Minibatch loss=0.448899, TrainingAccuracy=0.62080\n",
      "Epoch 22, CIFAR-10 Batch 5:  Minibatch loss=0.399504, TrainingAccuracy=0.61920\n",
      "Epoch 23, CIFAR-10 Batch 1:  Minibatch loss=0.513793, TrainingAccuracy=0.61340\n",
      "Epoch 23, CIFAR-10 Batch 2:  Minibatch loss=0.535116, TrainingAccuracy=0.57860\n",
      "Epoch 23, CIFAR-10 Batch 3:  Minibatch loss=0.438387, TrainingAccuracy=0.60120\n",
      "Epoch 23, CIFAR-10 Batch 4:  Minibatch loss=0.419902, TrainingAccuracy=0.62780\n",
      "Epoch 23, CIFAR-10 Batch 5:  Minibatch loss=0.421562, TrainingAccuracy=0.62520\n",
      "Epoch 24, CIFAR-10 Batch 1:  Minibatch loss=0.468599, TrainingAccuracy=0.61520\n",
      "Epoch 24, CIFAR-10 Batch 2:  Minibatch loss=0.457309, TrainingAccuracy=0.61220\n",
      "Epoch 24, CIFAR-10 Batch 3:  Minibatch loss=0.455795, TrainingAccuracy=0.59640\n",
      "Epoch 24, CIFAR-10 Batch 4:  Minibatch loss=0.412784, TrainingAccuracy=0.62300\n",
      "Epoch 24, CIFAR-10 Batch 5:  Minibatch loss=0.428246, TrainingAccuracy=0.62140\n",
      "Epoch 25, CIFAR-10 Batch 1:  Minibatch loss=0.449507, TrainingAccuracy=0.61700\n",
      "Epoch 25, CIFAR-10 Batch 2:  Minibatch loss=0.407473, TrainingAccuracy=0.62420\n",
      "Epoch 25, CIFAR-10 Batch 3:  Minibatch loss=0.418831, TrainingAccuracy=0.61580\n",
      "Epoch 25, CIFAR-10 Batch 4:  Minibatch loss=0.441870, TrainingAccuracy=0.61220\n",
      "Epoch 25, CIFAR-10 Batch 5:  Minibatch loss=0.359442, TrainingAccuracy=0.63120\n",
      "Epoch 26, CIFAR-10 Batch 1:  Minibatch loss=0.385515, TrainingAccuracy=0.62600\n",
      "Epoch 26, CIFAR-10 Batch 2:  Minibatch loss=0.404789, TrainingAccuracy=0.61540\n",
      "Epoch 26, CIFAR-10 Batch 3:  Minibatch loss=0.357165, TrainingAccuracy=0.61800\n",
      "Epoch 26, CIFAR-10 Batch 4:  Minibatch loss=0.395990, TrainingAccuracy=0.62460\n",
      "Epoch 26, CIFAR-10 Batch 5:  Minibatch loss=0.364460, TrainingAccuracy=0.62140\n",
      "Epoch 27, CIFAR-10 Batch 1:  Minibatch loss=0.364253, TrainingAccuracy=0.62300\n",
      "Epoch 27, CIFAR-10 Batch 2:  Minibatch loss=0.373410, TrainingAccuracy=0.62060\n",
      "Epoch 27, CIFAR-10 Batch 3:  Minibatch loss=0.323309, TrainingAccuracy=0.62160\n",
      "Epoch 27, CIFAR-10 Batch 4:  Minibatch loss=0.389733, TrainingAccuracy=0.62800\n",
      "Epoch 27, CIFAR-10 Batch 5:  Minibatch loss=0.374370, TrainingAccuracy=0.61680\n",
      "Epoch 28, CIFAR-10 Batch 1:  Minibatch loss=0.319567, TrainingAccuracy=0.63320\n",
      "Epoch 28, CIFAR-10 Batch 2:  Minibatch loss=0.359470, TrainingAccuracy=0.62060\n",
      "Epoch 28, CIFAR-10 Batch 3:  Minibatch loss=0.349585, TrainingAccuracy=0.60820\n",
      "Epoch 28, CIFAR-10 Batch 4:  Minibatch loss=0.367780, TrainingAccuracy=0.62480\n",
      "Epoch 28, CIFAR-10 Batch 5:  Minibatch loss=0.295813, TrainingAccuracy=0.62640\n",
      "Epoch 29, CIFAR-10 Batch 1:  Minibatch loss=0.314334, TrainingAccuracy=0.62080\n",
      "Epoch 29, CIFAR-10 Batch 2:  Minibatch loss=0.342445, TrainingAccuracy=0.61200\n",
      "Epoch 29, CIFAR-10 Batch 3:  Minibatch loss=0.416864, TrainingAccuracy=0.59080\n",
      "Epoch 29, CIFAR-10 Batch 4:  Minibatch loss=0.391901, TrainingAccuracy=0.62080\n",
      "Epoch 29, CIFAR-10 Batch 5:  Minibatch loss=0.301689, TrainingAccuracy=0.62840\n",
      "Epoch 30, CIFAR-10 Batch 1:  Minibatch loss=0.310496, TrainingAccuracy=0.61540\n",
      "Epoch 30, CIFAR-10 Batch 2:  Minibatch loss=0.306013, TrainingAccuracy=0.62360\n",
      "Epoch 30, CIFAR-10 Batch 3:  Minibatch loss=0.319047, TrainingAccuracy=0.61060\n",
      "Epoch 30, CIFAR-10 Batch 4:  Minibatch loss=0.350186, TrainingAccuracy=0.62000\n",
      "Epoch 30, CIFAR-10 Batch 5:  Minibatch loss=0.272195, TrainingAccuracy=0.63560\n",
      "Epoch 31, CIFAR-10 Batch 1:  Minibatch loss=0.287823, TrainingAccuracy=0.61960\n",
      "Epoch 31, CIFAR-10 Batch 2:  Minibatch loss=0.297803, TrainingAccuracy=0.62780\n",
      "Epoch 31, CIFAR-10 Batch 3:  Minibatch loss=0.320926, TrainingAccuracy=0.60380\n",
      "Epoch 31, CIFAR-10 Batch 4:  Minibatch loss=0.305285, TrainingAccuracy=0.61680\n",
      "Epoch 31, CIFAR-10 Batch 5:  Minibatch loss=0.222817, TrainingAccuracy=0.63260\n",
      "Epoch 32, CIFAR-10 Batch 1:  Minibatch loss=0.278693, TrainingAccuracy=0.62060\n",
      "Epoch 32, CIFAR-10 Batch 2:  Minibatch loss=0.357121, TrainingAccuracy=0.60960\n",
      "Epoch 32, CIFAR-10 Batch 3:  Minibatch loss=0.316853, TrainingAccuracy=0.60700\n",
      "Epoch 32, CIFAR-10 Batch 4:  Minibatch loss=0.315400, TrainingAccuracy=0.61940\n",
      "Epoch 32, CIFAR-10 Batch 5:  Minibatch loss=0.231453, TrainingAccuracy=0.62600\n",
      "Epoch 33, CIFAR-10 Batch 1:  Minibatch loss=0.254862, TrainingAccuracy=0.62580\n",
      "Epoch 33, CIFAR-10 Batch 2:  Minibatch loss=0.353444, TrainingAccuracy=0.60020\n",
      "Epoch 33, CIFAR-10 Batch 3:  Minibatch loss=0.287673, TrainingAccuracy=0.60700\n",
      "Epoch 33, CIFAR-10 Batch 4:  Minibatch loss=0.275212, TrainingAccuracy=0.62900\n",
      "Epoch 33, CIFAR-10 Batch 5:  Minibatch loss=0.224115, TrainingAccuracy=0.62000\n",
      "Epoch 34, CIFAR-10 Batch 1:  Minibatch loss=0.252701, TrainingAccuracy=0.61280\n",
      "Epoch 34, CIFAR-10 Batch 2:  Minibatch loss=0.372061, TrainingAccuracy=0.58660\n",
      "Epoch 34, CIFAR-10 Batch 3:  Minibatch loss=0.213865, TrainingAccuracy=0.62660\n",
      "Epoch 34, CIFAR-10 Batch 4:  Minibatch loss=0.236493, TrainingAccuracy=0.63540\n",
      "Epoch 34, CIFAR-10 Batch 5:  Minibatch loss=0.181082, TrainingAccuracy=0.61840\n",
      "Epoch 35, CIFAR-10 Batch 1:  Minibatch loss=0.234559, TrainingAccuracy=0.61860\n",
      "Epoch 35, CIFAR-10 Batch 2:  Minibatch loss=0.282512, TrainingAccuracy=0.60320\n",
      "Epoch 35, CIFAR-10 Batch 3:  Minibatch loss=0.175564, TrainingAccuracy=0.63680\n",
      "Epoch 35, CIFAR-10 Batch 4:  Minibatch loss=0.231352, TrainingAccuracy=0.63100\n",
      "Epoch 35, CIFAR-10 Batch 5:  Minibatch loss=0.161576, TrainingAccuracy=0.62420\n",
      "Epoch 36, CIFAR-10 Batch 1:  Minibatch loss=0.212370, TrainingAccuracy=0.62580\n",
      "Epoch 36, CIFAR-10 Batch 2:  Minibatch loss=0.224212, TrainingAccuracy=0.62460\n",
      "Epoch 36, CIFAR-10 Batch 3:  Minibatch loss=0.148649, TrainingAccuracy=0.62920\n",
      "Epoch 36, CIFAR-10 Batch 4:  Minibatch loss=0.207379, TrainingAccuracy=0.62740\n",
      "Epoch 36, CIFAR-10 Batch 5:  Minibatch loss=0.136312, TrainingAccuracy=0.62560\n",
      "Epoch 37, CIFAR-10 Batch 1:  Minibatch loss=0.221132, TrainingAccuracy=0.61340\n",
      "Epoch 37, CIFAR-10 Batch 2:  Minibatch loss=0.233879, TrainingAccuracy=0.61540\n",
      "Epoch 37, CIFAR-10 Batch 3:  Minibatch loss=0.136871, TrainingAccuracy=0.63080\n",
      "Epoch 37, CIFAR-10 Batch 4:  Minibatch loss=0.212109, TrainingAccuracy=0.60580\n",
      "Epoch 37, CIFAR-10 Batch 5:  Minibatch loss=0.142568, TrainingAccuracy=0.62000\n",
      "Epoch 38, CIFAR-10 Batch 1:  Minibatch loss=0.206073, TrainingAccuracy=0.61080\n",
      "Epoch 38, CIFAR-10 Batch 2:  Minibatch loss=0.201288, TrainingAccuracy=0.61140\n",
      "Epoch 38, CIFAR-10 Batch 3:  Minibatch loss=0.130777, TrainingAccuracy=0.63920\n",
      "Epoch 38, CIFAR-10 Batch 4:  Minibatch loss=0.169418, TrainingAccuracy=0.61140\n",
      "Epoch 38, CIFAR-10 Batch 5:  Minibatch loss=0.121545, TrainingAccuracy=0.63620\n",
      "Epoch 39, CIFAR-10 Batch 1:  Minibatch loss=0.183117, TrainingAccuracy=0.62740\n",
      "Epoch 39, CIFAR-10 Batch 2:  Minibatch loss=0.179652, TrainingAccuracy=0.61260\n",
      "Epoch 39, CIFAR-10 Batch 3:  Minibatch loss=0.129239, TrainingAccuracy=0.63940\n",
      "Epoch 39, CIFAR-10 Batch 4:  Minibatch loss=0.151203, TrainingAccuracy=0.63460\n",
      "Epoch 39, CIFAR-10 Batch 5:  Minibatch loss=0.114367, TrainingAccuracy=0.63560\n",
      "Epoch 40, CIFAR-10 Batch 1:  Minibatch loss=0.152494, TrainingAccuracy=0.63280\n",
      "Epoch 40, CIFAR-10 Batch 2:  Minibatch loss=0.151845, TrainingAccuracy=0.61660\n",
      "Epoch 40, CIFAR-10 Batch 3:  Minibatch loss=0.111386, TrainingAccuracy=0.63580\n",
      "Epoch 40, CIFAR-10 Batch 4:  Minibatch loss=0.118307, TrainingAccuracy=0.63380\n",
      "Epoch 40, CIFAR-10 Batch 5:  Minibatch loss=0.106613, TrainingAccuracy=0.63840\n",
      "Epoch 41, CIFAR-10 Batch 1:  Minibatch loss=0.128416, TrainingAccuracy=0.62200\n",
      "Epoch 41, CIFAR-10 Batch 2:  Minibatch loss=0.153741, TrainingAccuracy=0.60760\n",
      "Epoch 41, CIFAR-10 Batch 3:  Minibatch loss=0.103047, TrainingAccuracy=0.63060\n",
      "Epoch 41, CIFAR-10 Batch 4:  Minibatch loss=0.112265, TrainingAccuracy=0.63740\n",
      "Epoch 41, CIFAR-10 Batch 5:  Minibatch loss=0.089272, TrainingAccuracy=0.64120\n",
      "Epoch 42, CIFAR-10 Batch 1:  Minibatch loss=0.127635, TrainingAccuracy=0.61080\n",
      "Epoch 42, CIFAR-10 Batch 2:  Minibatch loss=0.147154, TrainingAccuracy=0.61220\n",
      "Epoch 42, CIFAR-10 Batch 3:  Minibatch loss=0.112071, TrainingAccuracy=0.61900\n"
     ]
    },
    {
     "name": "stdout",
     "output_type": "stream",
     "text": [
      "Epoch 42, CIFAR-10 Batch 4:  Minibatch loss=0.121923, TrainingAccuracy=0.62180\n",
      "Epoch 42, CIFAR-10 Batch 5:  Minibatch loss=0.076255, TrainingAccuracy=0.63100\n",
      "Epoch 43, CIFAR-10 Batch 1:  Minibatch loss=0.124048, TrainingAccuracy=0.61840\n",
      "Epoch 43, CIFAR-10 Batch 2:  Minibatch loss=0.121261, TrainingAccuracy=0.61800\n",
      "Epoch 43, CIFAR-10 Batch 3:  Minibatch loss=0.103833, TrainingAccuracy=0.62640\n",
      "Epoch 43, CIFAR-10 Batch 4:  Minibatch loss=0.105923, TrainingAccuracy=0.62000\n",
      "Epoch 43, CIFAR-10 Batch 5:  Minibatch loss=0.102619, TrainingAccuracy=0.62760\n",
      "Epoch 44, CIFAR-10 Batch 1:  Minibatch loss=0.126804, TrainingAccuracy=0.62640\n",
      "Epoch 44, CIFAR-10 Batch 2:  Minibatch loss=0.127438, TrainingAccuracy=0.60320\n",
      "Epoch 44, CIFAR-10 Batch 3:  Minibatch loss=0.097014, TrainingAccuracy=0.62420\n",
      "Epoch 44, CIFAR-10 Batch 4:  Minibatch loss=0.107060, TrainingAccuracy=0.62300\n",
      "Epoch 44, CIFAR-10 Batch 5:  Minibatch loss=0.089566, TrainingAccuracy=0.62020\n",
      "Epoch 45, CIFAR-10 Batch 1:  Minibatch loss=0.099576, TrainingAccuracy=0.62660\n",
      "Epoch 45, CIFAR-10 Batch 2:  Minibatch loss=0.126928, TrainingAccuracy=0.59700\n",
      "Epoch 45, CIFAR-10 Batch 3:  Minibatch loss=0.094132, TrainingAccuracy=0.61600\n",
      "Epoch 45, CIFAR-10 Batch 4:  Minibatch loss=0.129128, TrainingAccuracy=0.61360\n",
      "Epoch 45, CIFAR-10 Batch 5:  Minibatch loss=0.128987, TrainingAccuracy=0.61240\n",
      "Epoch 46, CIFAR-10 Batch 1:  Minibatch loss=0.096681, TrainingAccuracy=0.62840\n",
      "Epoch 46, CIFAR-10 Batch 2:  Minibatch loss=0.111852, TrainingAccuracy=0.60860\n",
      "Epoch 46, CIFAR-10 Batch 3:  Minibatch loss=0.120027, TrainingAccuracy=0.59900\n",
      "Epoch 46, CIFAR-10 Batch 4:  Minibatch loss=0.098176, TrainingAccuracy=0.61560\n",
      "Epoch 46, CIFAR-10 Batch 5:  Minibatch loss=0.117876, TrainingAccuracy=0.61060\n",
      "Epoch 47, CIFAR-10 Batch 1:  Minibatch loss=0.119827, TrainingAccuracy=0.62080\n",
      "Epoch 47, CIFAR-10 Batch 2:  Minibatch loss=0.125116, TrainingAccuracy=0.60120\n",
      "Epoch 47, CIFAR-10 Batch 3:  Minibatch loss=0.143962, TrainingAccuracy=0.60460\n",
      "Epoch 47, CIFAR-10 Batch 4:  Minibatch loss=0.102855, TrainingAccuracy=0.61280\n",
      "Epoch 47, CIFAR-10 Batch 5:  Minibatch loss=0.118924, TrainingAccuracy=0.60560\n",
      "Epoch 48, CIFAR-10 Batch 1:  Minibatch loss=0.106492, TrainingAccuracy=0.62560\n",
      "Epoch 48, CIFAR-10 Batch 2:  Minibatch loss=0.086685, TrainingAccuracy=0.61920\n",
      "Epoch 48, CIFAR-10 Batch 3:  Minibatch loss=0.095099, TrainingAccuracy=0.61380\n",
      "Epoch 48, CIFAR-10 Batch 4:  Minibatch loss=0.128965, TrainingAccuracy=0.60700\n",
      "Epoch 48, CIFAR-10 Batch 5:  Minibatch loss=0.115459, TrainingAccuracy=0.62240\n",
      "Epoch 49, CIFAR-10 Batch 1:  Minibatch loss=0.087352, TrainingAccuracy=0.62660\n",
      "Epoch 49, CIFAR-10 Batch 2:  Minibatch loss=0.100452, TrainingAccuracy=0.62640\n",
      "Epoch 49, CIFAR-10 Batch 3:  Minibatch loss=0.078302, TrainingAccuracy=0.61480\n",
      "Epoch 49, CIFAR-10 Batch 4:  Minibatch loss=0.113027, TrainingAccuracy=0.59460\n",
      "Epoch 49, CIFAR-10 Batch 5:  Minibatch loss=0.110131, TrainingAccuracy=0.60860\n",
      "Epoch 50, CIFAR-10 Batch 1:  Minibatch loss=0.083441, TrainingAccuracy=0.62760\n",
      "Epoch 50, CIFAR-10 Batch 2:  Minibatch loss=0.097887, TrainingAccuracy=0.62380\n",
      "Epoch 50, CIFAR-10 Batch 3:  Minibatch loss=0.061119, TrainingAccuracy=0.61040\n",
      "Epoch 50, CIFAR-10 Batch 4:  Minibatch loss=0.089297, TrainingAccuracy=0.61280\n",
      "Epoch 50, CIFAR-10 Batch 5:  Minibatch loss=0.082063, TrainingAccuracy=0.60900\n"
     ]
    }
   ],
   "source": [
    "\"\"\"\n",
    "DON'T MODIFY ANYTHING IN THIS CELL\n",
    "\"\"\"\n",
    "save_model_path = './image_classification'\n",
    "\n",
    "print('Training...')\n",
    "with tf.Session() as sess:\n",
    "    # Initializing the variables\n",
    "    sess.run(tf.global_variables_initializer())\n",
    "    \n",
    "    # Training cycle\n",
    "    for epoch in range(epochs):\n",
    "        # Loop over all batches\n",
    "        n_batches = 5\n",
    "        for batch_i in range(1, n_batches + 1):\n",
    "            for batch_features, batch_labels in helper.load_preprocess_training_batch(batch_i, batch_size):\n",
    "                train_neural_network(sess, optimizer, keep_probability, batch_features, batch_labels)\n",
    "            print('Epoch {:>2}, CIFAR-10 Batch {}:  '.format(epoch + 1, batch_i), end='')\n",
    "            print_stats(sess, batch_features, batch_labels, cost, accuracy)\n",
    "            \n",
    "    # Save Model\n",
    "    saver = tf.train.Saver()\n",
    "    save_path = saver.save(sess, save_model_path)"
   ]
  },
  {
   "cell_type": "markdown",
   "metadata": {},
   "source": [
    "# Checkpoint\n",
    "The model has been saved to disk.\n",
    "## Test Model\n",
    "Test your model against the test dataset.  This will be your final accuracy. You should have an accuracy greater than 50%. If you don't, keep tweaking the model architecture and parameters."
   ]
  },
  {
   "cell_type": "code",
   "execution_count": 52,
   "metadata": {
    "scrolled": false
   },
   "outputs": [
    {
     "name": "stdout",
     "output_type": "stream",
     "text": [
      "INFO:tensorflow:Restoring parameters from ./image_classification\n",
      "Testing Accuracy: 0.6044232547283173\n",
      "\n"
     ]
    },
    {
     "data": {
      "image/png": "[encoded data removed]",
      "text/plain": [
       "<matplotlib.figure.Figure at 0x2445af35d68>"
      ]
     },
     "metadata": {
      "image/png": {
       "height": 319,
       "width": 355
      }
     },
     "output_type": "display_data"
    }
   ],
   "source": [
    "\"\"\"\n",
    "DON'T MODIFY ANYTHING IN THIS CELL\n",
    "\"\"\"\n",
    "%matplotlib inline\n",
    "%config InlineBackend.figure_format = 'retina'\n",
    "\n",
    "import tensorflow as tf\n",
    "import pickle\n",
    "import helper\n",
    "import random\n",
    "\n",
    "# Set batch size if not already set\n",
    "try:\n",
    "    if batch_size:\n",
    "        pass\n",
    "except NameError:\n",
    "    batch_size = 64\n",
    "\n",
    "save_model_path = './image_classification'\n",
    "n_samples = 4\n",
    "top_n_predictions = 3\n",
    "\n",
    "def test_model():\n",
    "    \"\"\"\n",
    "    Test the saved model against the test dataset\n",
    "    \"\"\"\n",
    "\n",
    "    test_features, test_labels = pickle.load(open('preprocess_training.p', mode='rb'))\n",
    "    loaded_graph = tf.Graph()\n",
    "\n",
    "    with tf.Session(graph=loaded_graph) as sess:\n",
    "        # Load model\n",
    "        loader = tf.train.import_meta_graph(save_model_path + '.meta')\n",
    "        loader.restore(sess, save_model_path)\n",
    "\n",
    "        # Get Tensors from loaded model\n",
    "        loaded_x = loaded_graph.get_tensor_by_name('x:0')\n",
    "        loaded_y = loaded_graph.get_tensor_by_name('y:0')\n",
    "        loaded_keep_prob = loaded_graph.get_tensor_by_name('keep_prob:0')\n",
    "        loaded_logits = loaded_graph.get_tensor_by_name('logits:0')\n",
    "        loaded_acc = loaded_graph.get_tensor_by_name('accuracy:0')\n",
    "        \n",
    "        # Get accuracy in batches for memory limitations\n",
    "        test_batch_acc_total = 0\n",
    "        test_batch_count = 0\n",
    "        \n",
    "        for train_feature_batch, train_label_batch in helper.batch_features_labels(test_features, test_labels, batch_size):\n",
    "            test_batch_acc_total += sess.run(\n",
    "                loaded_acc,\n",
    "                feed_dict={loaded_x: train_feature_batch, loaded_y: train_label_batch, loaded_keep_prob: 1.0})\n",
    "            test_batch_count += 1\n",
    "\n",
    "        print('Testing Accuracy: {}\\n'.format(test_batch_acc_total/test_batch_count))\n",
    "\n",
    "        # Print Random Samples\n",
    "        random_test_features, random_test_labels = tuple(zip(*random.sample(list(zip(test_features, test_labels)), n_samples)))\n",
    "        random_test_predictions = sess.run(\n",
    "            tf.nn.top_k(tf.nn.softmax(loaded_logits), top_n_predictions),\n",
    "            feed_dict={loaded_x: random_test_features, loaded_y: random_test_labels, loaded_keep_prob: 1.0})\n",
    "        helper.display_image_predictions(random_test_features, random_test_labels, random_test_predictions)\n",
    "\n",
    "\n",
    "test_model()"
   ]
  },
  {
   "cell_type": "markdown",
   "metadata": {},
   "source": [
    "## Why 50-80% Accuracy?\n",
    "You might be wondering why you can't get an accuracy any higher. First things first, 50% isn't bad for a simple CNN.  Pure guessing would get you 10% accuracy. That's because there are many more techniques that can be applied to your model and we recemmond that once you are done with this project, you explore!\n",
    "\n",
    "## Submitting This Project\n",
    "When submitting this project, make sure to run all the cells before saving the notebook.  Save the notebook file as \"image_classification.ipynb\" and save it as a HTML file under \"File\" -> \"Download as\".  Include the \"helper.py\" and \"problem_unittests.py\" files in your submission."
   ]
  }
 ],
 "metadata": {
  "kernelspec": {
   "display_name": "Python 3",
   "language": "python",
   "name": "python3"
  },
  "language_info": {
   "codemirror_mode": {
    "name": "ipython",
    "version": 3
   },
   "file_extension": ".py",
   "mimetype": "text/x-python",
   "name": "python",
   "nbconvert_exporter": "python",
   "pygments_lexer": "ipython3",
   "version": "3.5.3"
  }
 },
 "nbformat": 4,
 "nbformat_minor": 1
}
